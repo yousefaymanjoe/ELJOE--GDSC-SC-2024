{
  "cells": [
    {
      "cell_type": "markdown",
      "metadata": {
        "id": "J6bKZefO5xfp"
      },
      "source": [
        "# Demo inaSpeechSegmenter\n",
        "\n",
        "This is a demo notebook which how to use inaSpeechSegmenter. \n",
        "\n",
        "It has been tested on Google Colab. In some context, you may need to install ffmpeg command line utility. You can do this in the notebook with the following command line:\n",
        "\n",
        "```\n",
        "! apt install ffmpeg\n",
        "```"
      ]
    },
    {
      "cell_type": "code",
      "execution_count": null,
      "metadata": {
        "colab": {
          "base_uri": "https://localhost:8080/"
        },
        "id": "I7xN1K2s4dvE",
        "outputId": "403d70f5-442f-40df-e851-e713891795eb"
      },
      "outputs": [],
      "source": [
        "# Install the library\n",
        "! pip install inaSpeechSegmenter"
      ]
    },
    {
      "cell_type": "markdown",
      "metadata": {
        "id": "Wa5TSOxW6lkf"
      },
      "source": [
        "We use inaSpeechSegmenter. We also use pandas and seaborn for the data analytics section below."
      ]
    },
    {
      "cell_type": "code",
      "execution_count": null,
      "metadata": {
        "id": "a36JHTYP4SWm"
      },
      "outputs": [],
      "source": [
        "# Load the libraries\n",
        "from inaSpeechSegmenter import Segmenter\n",
        "from inaSpeechSegmenter.export_funcs import seg2csv\n",
        "import pandas as pd\n",
        "import seaborn as sns"
      ]
    },
    {
      "cell_type": "code",
      "execution_count": null,
      "metadata": {
        "id": "vzyXMm343a1O"
      },
      "outputs": [],
      "source": [
        "# Load the model\n",
        "seg = Segmenter()"
      ]
    },
    {
      "cell_type": "code",
      "execution_count": null,
      "metadata": {
        "id": "ih3od8vK4kYE"
      },
      "outputs": [],
      "source": [
        "# Choose any mp3 file online\n",
        "media = 'https://github.com/ina-foss/inaSpeechSegmenter/raw/master/media/musanmix.mp3'"
      ]
    },
    {
      "cell_type": "code",
      "execution_count": null,
      "metadata": {
        "colab": {
          "base_uri": "https://localhost:8080/"
        },
        "id": "YplbewM84oBf",
        "outputId": "4da49f01-0c7b-46b6-8f0b-8f0cd9441b2b"
      },
      "outputs": [],
      "source": [
        "# Run the segmentation\n",
        "segmentation = seg(media)"
      ]
    },
    {
      "cell_type": "code",
      "execution_count": null,
      "metadata": {
        "colab": {
          "base_uri": "https://localhost:8080/"
        },
        "id": "i92SXQKR4swK",
        "outputId": "4e2e8523-799b-456f-ba7c-2eadfb04e20d"
      },
      "outputs": [],
      "source": [
        "# Look at the outcome\n",
        "segmentation"
      ]
    },
    {
      "cell_type": "code",
      "execution_count": null,
      "metadata": {
        "id": "r10TSwBo4x1a"
      },
      "outputs": [],
      "source": [
        "# Export results to CSV\n",
        "seg2csv(segmentation, 'myseg.csv')"
      ]
    },
    {
      "cell_type": "markdown",
      "metadata": {
        "id": "aQnI4c4X7DHF"
      },
      "source": [
        "## Data analytics\n",
        "\n",
        "This section read the output of the segmentation, compute total length for each label ('music', 'noEnergy', 'male', 'female') and draw a graph. "
      ]
    },
    {
      "cell_type": "code",
      "execution_count": null,
      "metadata": {
        "id": "Avd0jfmd474a"
      },
      "outputs": [],
      "source": [
        "# Read the results in a table\n",
        "df = pd.read_table(\"myseg.csv\")"
      ]
    },
    {
      "cell_type": "code",
      "execution_count": null,
      "metadata": {
        "id": "vUNWsPvQ5A4t"
      },
      "outputs": [],
      "source": [
        "# Compute the length of each sequence\n",
        "df[\"length\"] = df['stop'] - df['start']"
      ]
    },
    {
      "cell_type": "code",
      "execution_count": null,
      "metadata": {
        "colab": {
          "base_uri": "https://localhost:8080/",
          "height": 206
        },
        "id": "Kqb_Qsli5E39",
        "outputId": "c36ab81f-d73f-43bc-bcdd-062d37d875b1"
      },
      "outputs": [],
      "source": [
        "# Compute the aggregated length of all sequences by label\n",
        "df[['labels', 'length']].groupby(\"labels\").sum()"
      ]
    },
    {
      "cell_type": "code",
      "execution_count": null,
      "metadata": {
        "id": "h_-K4ga65K1a"
      },
      "outputs": [],
      "source": [
        "# Store the aggregated data in a new data frame\n",
        "df_aggregated= df[['labels', 'length']].groupby(\"labels\").sum()"
      ]
    },
    {
      "cell_type": "code",
      "execution_count": null,
      "metadata": {
        "id": "A_ZF-1pd5Pqg"
      },
      "outputs": [],
      "source": [
        "# Add the index as a column\n",
        "df_aggregated['labels'] = df_aggregated.index"
      ]
    },
    {
      "cell_type": "code",
      "execution_count": null,
      "metadata": {
        "colab": {
          "base_uri": "https://localhost:8080/",
          "height": 296
        },
        "id": "p-00Rz225eh4",
        "outputId": "7c5fa079-3708-4450-c1cb-4033b35862de"
      },
      "outputs": [],
      "source": [
        "# Draw the plot\n",
        "sns.barplot(\n",
        "    data = df_aggregated, \n",
        "    x = \"labels\", \n",
        "    y = \"length\"\n",
        "    )"
      ]
    }
  ],
  "metadata": {
    "colab": {
      "collapsed_sections": [],
      "provenance": []
    },
    "kernelspec": {
      "display_name": "Python 3",
      "name": "python3"
    },
    "language_info": {
      "name": "python"
    }
  },
  "nbformat": 4,
  "nbformat_minor": 0
}
